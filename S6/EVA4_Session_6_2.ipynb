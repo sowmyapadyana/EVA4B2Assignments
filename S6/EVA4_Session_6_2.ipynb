{
  "nbformat": 4,
  "nbformat_minor": 0,
  "metadata": {
    "colab": {
      "name": "EVA4 - Session 6_2.ipynb",
      "provenance": [],
      "collapsed_sections": []
    },
    "kernelspec": {
      "name": "python3",
      "display_name": "Python 3"
    }
  },
  "cells": [
    {
      "cell_type": "code",
      "metadata": {
        "id": "4BdhueVUQjbv",
        "colab_type": "code",
        "colab": {}
      },
      "source": [
        "from __future__ import print_function\n",
        "import torch\n",
        "import torch.nn as nn\n",
        "import torch.nn.functional as F\n",
        "import torch.optim as optim\n",
        "from torchvision import datasets, transforms"
      ],
      "execution_count": 0,
      "outputs": []
    },
    {
      "cell_type": "code",
      "metadata": {
        "id": "WHmO-ZkGQqCt",
        "colab_type": "code",
        "colab": {}
      },
      "source": [
        "import dnn_model"
      ],
      "execution_count": 0,
      "outputs": []
    },
    {
      "cell_type": "code",
      "metadata": {
        "id": "s6fI7yT0RAYY",
        "colab_type": "code",
        "outputId": "2d095641-1b0c-4229-a78d-3505fa544c84",
        "colab": {
          "base_uri": "https://localhost:8080/",
          "height": 564
        }
      },
      "source": [
        "from torchsummary import summary\n",
        "use_cuda = torch.cuda.is_available()\n",
        "device = torch.device(\"cuda\" if use_cuda else \"cpu\")\n",
        "model = dnn_model.Net1().to(device)\n",
        "summary(model, input_size=(1, 28, 28))"
      ],
      "execution_count": 11,
      "outputs": [
        {
          "output_type": "stream",
          "text": [
            "----------------------------------------------------------------\n",
            "        Layer (type)               Output Shape         Param #\n",
            "================================================================\n",
            "            Conv2d-1           [-1, 16, 26, 26]             160\n",
            "           Dropout-2           [-1, 16, 26, 26]               0\n",
            "            Conv2d-3           [-1, 10, 24, 24]           1,450\n",
            "           Dropout-4           [-1, 10, 24, 24]               0\n",
            "         MaxPool2d-5           [-1, 10, 12, 12]               0\n",
            "       BatchNorm2d-6           [-1, 10, 12, 12]              20\n",
            "            Conv2d-7           [-1, 10, 10, 10]             910\n",
            "           Dropout-8           [-1, 10, 10, 10]               0\n",
            "            Conv2d-9             [-1, 16, 8, 8]           1,456\n",
            "          Dropout-10             [-1, 16, 8, 8]               0\n",
            "      BatchNorm2d-11             [-1, 16, 8, 8]              32\n",
            "           Conv2d-12             [-1, 16, 6, 6]           2,320\n",
            "          Dropout-13             [-1, 16, 6, 6]               0\n",
            "           Conv2d-14             [-1, 16, 6, 6]           2,320\n",
            "        AvgPool2d-15             [-1, 16, 1, 1]               0\n",
            "           Conv2d-16             [-1, 10, 1, 1]             170\n",
            "================================================================\n",
            "Total params: 8,838\n",
            "Trainable params: 8,838\n",
            "Non-trainable params: 0\n",
            "----------------------------------------------------------------\n",
            "Input size (MB): 0.00\n",
            "Forward/backward pass size (MB): 0.33\n",
            "Params size (MB): 0.03\n",
            "Estimated Total Size (MB): 0.36\n",
            "----------------------------------------------------------------\n"
          ],
          "name": "stdout"
        },
        {
          "output_type": "stream",
          "text": [
            "/content/dnn_model.py:35: UserWarning: Implicit dimension choice for log_softmax has been deprecated. Change the call to include dim=X as an argument.\n",
            "  return F.log_softmax(x)\n"
          ],
          "name": "stderr"
        }
      ]
    },
    {
      "cell_type": "code",
      "metadata": {
        "id": "SjmowFSzRIHY",
        "colab_type": "code",
        "colab": {}
      },
      "source": [
        "from dataloader import TrainSetLoader\n",
        "\n",
        "batch_size = 128\n",
        "kwargs = {'num_workers': 1, 'pin_memory': True} if use_cuda else {}\n",
        "loader = TrainSetLoader(kwargs, batch_size)\n",
        "train_loader = loader.data_loader(\"train\")\n",
        "test_loader = loader.data_loader(\"test\")\n"
      ],
      "execution_count": 0,
      "outputs": []
    },
    {
      "cell_type": "code",
      "metadata": {
        "id": "SXWIlJDjYQuU",
        "colab_type": "code",
        "outputId": "1f0e0eb6-9c2b-48c0-f529-cc06854808a6",
        "colab": {
          "base_uri": "https://localhost:8080/",
          "height": 1000
        }
      },
      "source": [
        "# Net1 - without L1 & L2, With Batch normalization\n",
        "from train import train_model\n",
        "from test import test_model\n",
        "\n",
        "# Session 5 final model\n",
        "model = dnn_model.Net1().to(device)\n",
        "optimizer = optim.SGD(model.parameters(), lr=0.01, momentum=0.9)\n",
        "\n",
        "for epoch in range(1, 25):\n",
        "    train_model(model, device, train_loader, optimizer, epoch)\n",
        "    test_model(model, device, test_loader)"
      ],
      "execution_count": 7,
      "outputs": [
        {
          "output_type": "stream",
          "text": [
            "\r  0%|          | 0/469 [00:00<?, ?it/s]/content/dnn_model.py:35: UserWarning: Implicit dimension choice for log_softmax has been deprecated. Change the call to include dim=X as an argument.\n",
            "  return F.log_softmax(x)\n",
            "loss=0.2893454134464264 batch_id=468 Accuracy=72.09: 100%|██████████| 469/469 [01:16<00:00,  6.15it/s]\n",
            "loss=0.13874687254428864 batch_id=0 Accuracy=93.75:   0%|          | 1/469 [00:00<01:18,  5.94it/s]"
          ],
          "name": "stderr"
        },
        {
          "output_type": "stream",
          "text": [
            "\n",
            "Test set: Average loss: 0.1180, Accuracy: 9671/10000 (96.71%)\n",
            "\n"
          ],
          "name": "stdout"
        },
        {
          "output_type": "stream",
          "text": [
            "loss=0.12450223416090012 batch_id=468 Accuracy=96.24: 100%|██████████| 469/469 [01:15<00:00,  6.22it/s]\n",
            "loss=0.04092518240213394 batch_id=0 Accuracy=99.22:   0%|          | 1/469 [00:00<01:16,  6.14it/s]"
          ],
          "name": "stderr"
        },
        {
          "output_type": "stream",
          "text": [
            "\n",
            "Test set: Average loss: 0.0664, Accuracy: 9787/10000 (97.87%)\n",
            "\n"
          ],
          "name": "stdout"
        },
        {
          "output_type": "stream",
          "text": [
            "loss=0.02072138525545597 batch_id=468 Accuracy=97.47: 100%|██████████| 469/469 [01:16<00:00,  6.15it/s]\n",
            "loss=0.10791319608688354 batch_id=0 Accuracy=98.44:   0%|          | 1/469 [00:00<01:16,  6.11it/s]"
          ],
          "name": "stderr"
        },
        {
          "output_type": "stream",
          "text": [
            "\n",
            "Test set: Average loss: 0.0548, Accuracy: 9828/10000 (98.28%)\n",
            "\n"
          ],
          "name": "stdout"
        },
        {
          "output_type": "stream",
          "text": [
            "loss=0.019239578396081924 batch_id=468 Accuracy=97.94: 100%|██████████| 469/469 [01:16<00:00,  6.16it/s]\n",
            "loss=0.044883497059345245 batch_id=0 Accuracy=97.66:   0%|          | 1/469 [00:00<01:15,  6.20it/s]"
          ],
          "name": "stderr"
        },
        {
          "output_type": "stream",
          "text": [
            "\n",
            "Test set: Average loss: 0.0405, Accuracy: 9886/10000 (98.86%)\n",
            "\n"
          ],
          "name": "stdout"
        },
        {
          "output_type": "stream",
          "text": [
            "loss=0.07796728610992432 batch_id=468 Accuracy=98.20: 100%|██████████| 469/469 [01:15<00:00,  6.23it/s]\n",
            "loss=0.06028338521718979 batch_id=0 Accuracy=96.88:   0%|          | 1/469 [00:00<01:15,  6.17it/s]"
          ],
          "name": "stderr"
        },
        {
          "output_type": "stream",
          "text": [
            "\n",
            "Test set: Average loss: 0.0386, Accuracy: 9880/10000 (98.80%)\n",
            "\n"
          ],
          "name": "stdout"
        },
        {
          "output_type": "stream",
          "text": [
            "loss=0.02924295701086521 batch_id=468 Accuracy=98.42: 100%|██████████| 469/469 [01:14<00:00,  6.26it/s]\n",
            "loss=0.041071854531764984 batch_id=0 Accuracy=100.00:   0%|          | 1/469 [00:00<01:13,  6.33it/s]"
          ],
          "name": "stderr"
        },
        {
          "output_type": "stream",
          "text": [
            "\n",
            "Test set: Average loss: 0.0343, Accuracy: 9900/10000 (99.00%)\n",
            "\n"
          ],
          "name": "stdout"
        },
        {
          "output_type": "stream",
          "text": [
            "loss=0.03107149340212345 batch_id=468 Accuracy=98.44: 100%|██████████| 469/469 [01:14<00:00,  6.27it/s]\n",
            "loss=0.08346288651227951 batch_id=0 Accuracy=97.66:   0%|          | 1/469 [00:00<01:14,  6.27it/s]"
          ],
          "name": "stderr"
        },
        {
          "output_type": "stream",
          "text": [
            "\n",
            "Test set: Average loss: 0.0329, Accuracy: 9894/10000 (98.94%)\n",
            "\n"
          ],
          "name": "stdout"
        },
        {
          "output_type": "stream",
          "text": [
            "loss=0.06480929255485535 batch_id=468 Accuracy=98.53: 100%|██████████| 469/469 [01:15<00:00,  6.25it/s]\n",
            "loss=0.058981481939554214 batch_id=0 Accuracy=99.22:   0%|          | 1/469 [00:00<01:14,  6.29it/s]"
          ],
          "name": "stderr"
        },
        {
          "output_type": "stream",
          "text": [
            "\n",
            "Test set: Average loss: 0.0290, Accuracy: 9906/10000 (99.06%)\n",
            "\n"
          ],
          "name": "stdout"
        },
        {
          "output_type": "stream",
          "text": [
            "loss=0.016332058236002922 batch_id=468 Accuracy=98.58: 100%|██████████| 469/469 [01:15<00:00,  6.20it/s]\n",
            "loss=0.057359665632247925 batch_id=0 Accuracy=97.66:   0%|          | 1/469 [00:00<01:17,  6.01it/s]"
          ],
          "name": "stderr"
        },
        {
          "output_type": "stream",
          "text": [
            "\n",
            "Test set: Average loss: 0.0278, Accuracy: 9909/10000 (99.09%)\n",
            "\n"
          ],
          "name": "stdout"
        },
        {
          "output_type": "stream",
          "text": [
            "loss=0.07931821793317795 batch_id=468 Accuracy=98.69: 100%|██████████| 469/469 [01:15<00:00,  6.18it/s]\n",
            "loss=0.028036100789904594 batch_id=0 Accuracy=99.22:   0%|          | 1/469 [00:00<01:15,  6.18it/s]"
          ],
          "name": "stderr"
        },
        {
          "output_type": "stream",
          "text": [
            "\n",
            "Test set: Average loss: 0.0256, Accuracy: 9917/10000 (99.17%)\n",
            "\n"
          ],
          "name": "stdout"
        },
        {
          "output_type": "stream",
          "text": [
            "loss=0.02167467772960663 batch_id=468 Accuracy=98.70: 100%|██████████| 469/469 [01:16<00:00,  6.17it/s]\n",
            "loss=0.0466059111058712 batch_id=0 Accuracy=99.22:   0%|          | 1/469 [00:00<01:17,  6.05it/s]"
          ],
          "name": "stderr"
        },
        {
          "output_type": "stream",
          "text": [
            "\n",
            "Test set: Average loss: 0.0311, Accuracy: 9898/10000 (98.98%)\n",
            "\n"
          ],
          "name": "stdout"
        },
        {
          "output_type": "stream",
          "text": [
            "loss=0.009281736798584461 batch_id=468 Accuracy=98.81: 100%|██████████| 469/469 [01:15<00:00,  6.18it/s]\n",
            "loss=0.02669500559568405 batch_id=0 Accuracy=97.66:   0%|          | 1/469 [00:00<01:16,  6.15it/s]"
          ],
          "name": "stderr"
        },
        {
          "output_type": "stream",
          "text": [
            "\n",
            "Test set: Average loss: 0.0286, Accuracy: 9915/10000 (99.15%)\n",
            "\n"
          ],
          "name": "stdout"
        },
        {
          "output_type": "stream",
          "text": [
            "loss=0.12622618675231934 batch_id=468 Accuracy=98.84: 100%|██████████| 469/469 [01:15<00:00,  6.24it/s]\n",
            "loss=0.03183848038315773 batch_id=0 Accuracy=96.88:   0%|          | 1/469 [00:00<01:17,  6.06it/s]"
          ],
          "name": "stderr"
        },
        {
          "output_type": "stream",
          "text": [
            "\n",
            "Test set: Average loss: 0.0268, Accuracy: 9926/10000 (99.26%)\n",
            "\n"
          ],
          "name": "stdout"
        },
        {
          "output_type": "stream",
          "text": [
            "loss=0.018636683002114296 batch_id=468 Accuracy=98.84: 100%|██████████| 469/469 [01:14<00:00,  6.29it/s]\n",
            "loss=0.01619480922818184 batch_id=0 Accuracy=100.00:   0%|          | 1/469 [00:00<01:14,  6.32it/s]"
          ],
          "name": "stderr"
        },
        {
          "output_type": "stream",
          "text": [
            "\n",
            "Test set: Average loss: 0.0277, Accuracy: 9917/10000 (99.17%)\n",
            "\n"
          ],
          "name": "stdout"
        },
        {
          "output_type": "stream",
          "text": [
            "loss=0.008850964717566967 batch_id=468 Accuracy=98.93: 100%|██████████| 469/469 [01:14<00:00,  6.30it/s]\n",
            "loss=0.017067518085241318 batch_id=0 Accuracy=99.22:   0%|          | 1/469 [00:00<01:13,  6.41it/s]"
          ],
          "name": "stderr"
        },
        {
          "output_type": "stream",
          "text": [
            "\n",
            "Test set: Average loss: 0.0249, Accuracy: 9917/10000 (99.17%)\n",
            "\n"
          ],
          "name": "stdout"
        },
        {
          "output_type": "stream",
          "text": [
            "loss=0.012088353745639324 batch_id=468 Accuracy=98.88: 100%|██████████| 469/469 [01:14<00:00,  6.31it/s]\n",
            "loss=0.036707088351249695 batch_id=0 Accuracy=98.44:   0%|          | 1/469 [00:00<01:16,  6.10it/s]"
          ],
          "name": "stderr"
        },
        {
          "output_type": "stream",
          "text": [
            "\n",
            "Test set: Average loss: 0.0233, Accuracy: 9930/10000 (99.30%)\n",
            "\n"
          ],
          "name": "stdout"
        },
        {
          "output_type": "stream",
          "text": [
            "loss=0.012740515172481537 batch_id=468 Accuracy=98.91: 100%|██████████| 469/469 [01:15<00:00,  6.19it/s]\n",
            "loss=0.03833167999982834 batch_id=0 Accuracy=99.22:   0%|          | 1/469 [00:00<01:15,  6.18it/s]"
          ],
          "name": "stderr"
        },
        {
          "output_type": "stream",
          "text": [
            "\n",
            "Test set: Average loss: 0.0279, Accuracy: 9914/10000 (99.14%)\n",
            "\n"
          ],
          "name": "stdout"
        },
        {
          "output_type": "stream",
          "text": [
            "loss=0.011753992177546024 batch_id=468 Accuracy=98.95: 100%|██████████| 469/469 [01:16<00:00,  6.16it/s]\n",
            "loss=0.036214105784893036 batch_id=0 Accuracy=96.09:   0%|          | 1/469 [00:00<01:19,  5.91it/s]"
          ],
          "name": "stderr"
        },
        {
          "output_type": "stream",
          "text": [
            "\n",
            "Test set: Average loss: 0.0243, Accuracy: 9924/10000 (99.24%)\n",
            "\n"
          ],
          "name": "stdout"
        },
        {
          "output_type": "stream",
          "text": [
            "loss=0.03398953005671501 batch_id=468 Accuracy=98.98: 100%|██████████| 469/469 [01:15<00:00,  6.19it/s]\n",
            "loss=0.034597355872392654 batch_id=0 Accuracy=99.22:   0%|          | 1/469 [00:00<01:15,  6.19it/s]"
          ],
          "name": "stderr"
        },
        {
          "output_type": "stream",
          "text": [
            "\n",
            "Test set: Average loss: 0.0268, Accuracy: 9915/10000 (99.15%)\n",
            "\n"
          ],
          "name": "stdout"
        },
        {
          "output_type": "stream",
          "text": [
            "loss=0.05684588849544525 batch_id=468 Accuracy=99.00: 100%|██████████| 469/469 [01:16<00:00,  6.09it/s]\n",
            "loss=0.019993050023913383 batch_id=0 Accuracy=100.00:   0%|          | 1/469 [00:00<01:15,  6.18it/s]"
          ],
          "name": "stderr"
        },
        {
          "output_type": "stream",
          "text": [
            "\n",
            "Test set: Average loss: 0.0212, Accuracy: 9937/10000 (99.37%)\n",
            "\n"
          ],
          "name": "stdout"
        },
        {
          "output_type": "stream",
          "text": [
            "loss=0.08279276639223099 batch_id=468 Accuracy=99.05: 100%|██████████| 469/469 [01:16<00:00,  6.14it/s]\n",
            "loss=0.08796704560518265 batch_id=0 Accuracy=98.44:   0%|          | 1/469 [00:00<01:17,  6.01it/s]"
          ],
          "name": "stderr"
        },
        {
          "output_type": "stream",
          "text": [
            "\n",
            "Test set: Average loss: 0.0258, Accuracy: 9914/10000 (99.14%)\n",
            "\n"
          ],
          "name": "stdout"
        },
        {
          "output_type": "stream",
          "text": [
            "loss=0.04518948122859001 batch_id=468 Accuracy=99.07: 100%|██████████| 469/469 [01:16<00:00,  6.16it/s]\n",
            "loss=0.0429091639816761 batch_id=0 Accuracy=100.00:   0%|          | 1/469 [00:00<01:17,  6.07it/s]"
          ],
          "name": "stderr"
        },
        {
          "output_type": "stream",
          "text": [
            "\n",
            "Test set: Average loss: 0.0234, Accuracy: 9927/10000 (99.27%)\n",
            "\n"
          ],
          "name": "stdout"
        },
        {
          "output_type": "stream",
          "text": [
            "loss=0.04968872293829918 batch_id=468 Accuracy=99.03: 100%|██████████| 469/469 [01:16<00:00,  6.16it/s]\n",
            "loss=0.024733087047934532 batch_id=0 Accuracy=99.22:   0%|          | 1/469 [00:00<01:20,  5.78it/s]"
          ],
          "name": "stderr"
        },
        {
          "output_type": "stream",
          "text": [
            "\n",
            "Test set: Average loss: 0.0229, Accuracy: 9916/10000 (99.16%)\n",
            "\n"
          ],
          "name": "stdout"
        },
        {
          "output_type": "stream",
          "text": [
            "loss=0.022303065285086632 batch_id=468 Accuracy=99.06: 100%|██████████| 469/469 [01:16<00:00,  6.15it/s]\n"
          ],
          "name": "stderr"
        },
        {
          "output_type": "stream",
          "text": [
            "\n",
            "Test set: Average loss: 0.0239, Accuracy: 9931/10000 (99.31%)\n",
            "\n"
          ],
          "name": "stdout"
        }
      ]
    },
    {
      "cell_type": "code",
      "metadata": {
        "id": "I4vGHj3WkuCc",
        "colab_type": "code",
        "colab": {
          "base_uri": "https://localhost:8080/",
          "height": 1000
        },
        "outputId": "26ba66fd-79ac-489e-b760-820e9e994172"
      },
      "source": [
        "# Net1 - with L2, with BN\n",
        "from train import train_model\n",
        "from test import test_model\n",
        "\n",
        "# Session 5 final model\n",
        "model = dnn_model.Net1().to(device)\n",
        "optimizer = optim.SGD(model.parameters(), lr=0.01, momentum=0, dampening=0, weight_decay=0, nesterov=False)\n",
        "\n",
        "for epoch in range(1, 25):\n",
        "    train_model(model, device, train_loader, optimizer, epoch)\n",
        "    test_model(model, device, test_loader)"
      ],
      "execution_count": 5,
      "outputs": [
        {
          "output_type": "stream",
          "text": [
            "\r  0%|          | 0/469 [00:00<?, ?it/s]/content/dnn_model.py:35: UserWarning: Implicit dimension choice for log_softmax has been deprecated. Change the call to include dim=X as an argument.\n",
            "  return F.log_softmax(x)\n",
            "loss=2.159263849258423 batch_id=468 Accuracy=17.53: 100%|██████████| 469/469 [01:22<00:00,  5.71it/s]\n",
            "loss=2.106940507888794 batch_id=0 Accuracy=19.53:   0%|          | 1/469 [00:00<01:20,  5.80it/s]"
          ],
          "name": "stderr"
        },
        {
          "output_type": "stream",
          "text": [
            "\n",
            "Test set: Average loss: 2.1149, Accuracy: 2606/10000 (26.06%)\n",
            "\n"
          ],
          "name": "stdout"
        },
        {
          "output_type": "stream",
          "text": [
            "loss=0.9036510586738586 batch_id=468 Accuracy=47.20: 100%|██████████| 469/469 [01:21<00:00,  5.74it/s]\n",
            "loss=0.8817183375358582 batch_id=0 Accuracy=74.22:   0%|          | 1/469 [00:00<01:20,  5.85it/s]"
          ],
          "name": "stderr"
        },
        {
          "output_type": "stream",
          "text": [
            "\n",
            "Test set: Average loss: 0.8776, Accuracy: 7538/10000 (75.38%)\n",
            "\n"
          ],
          "name": "stdout"
        },
        {
          "output_type": "stream",
          "text": [
            "loss=0.3488036096096039 batch_id=468 Accuracy=82.37: 100%|██████████| 469/469 [01:21<00:00,  5.77it/s]\n",
            "loss=0.3291482925415039 batch_id=0 Accuracy=90.62:   0%|          | 1/469 [00:00<01:22,  5.64it/s]"
          ],
          "name": "stderr"
        },
        {
          "output_type": "stream",
          "text": [
            "\n",
            "Test set: Average loss: 0.3527, Accuracy: 8983/10000 (89.83%)\n",
            "\n"
          ],
          "name": "stdout"
        },
        {
          "output_type": "stream",
          "text": [
            "loss=0.3351036310195923 batch_id=468 Accuracy=89.71: 100%|██████████| 469/469 [01:22<00:00,  5.65it/s]\n",
            "loss=0.25621840357780457 batch_id=0 Accuracy=93.75:   0%|          | 1/469 [00:00<01:23,  5.60it/s]"
          ],
          "name": "stderr"
        },
        {
          "output_type": "stream",
          "text": [
            "\n",
            "Test set: Average loss: 0.2225, Accuracy: 9405/10000 (94.05%)\n",
            "\n"
          ],
          "name": "stdout"
        },
        {
          "output_type": "stream",
          "text": [
            "loss=0.2030869722366333 batch_id=468 Accuracy=92.49: 100%|██████████| 469/469 [01:21<00:00,  5.76it/s]\n",
            "loss=0.21962915360927582 batch_id=0 Accuracy=93.75:   0%|          | 1/469 [00:00<01:19,  5.86it/s]"
          ],
          "name": "stderr"
        },
        {
          "output_type": "stream",
          "text": [
            "\n",
            "Test set: Average loss: 0.1693, Accuracy: 9532/10000 (95.32%)\n",
            "\n"
          ],
          "name": "stdout"
        },
        {
          "output_type": "stream",
          "text": [
            "loss=0.2062440663576126 batch_id=468 Accuracy=94.12: 100%|██████████| 469/469 [01:20<00:00,  5.85it/s]\n",
            "loss=0.25239142775535583 batch_id=0 Accuracy=92.97:   0%|          | 1/469 [00:00<01:20,  5.79it/s]"
          ],
          "name": "stderr"
        },
        {
          "output_type": "stream",
          "text": [
            "\n",
            "Test set: Average loss: 0.1384, Accuracy: 9597/10000 (95.97%)\n",
            "\n"
          ],
          "name": "stdout"
        },
        {
          "output_type": "stream",
          "text": [
            "loss=0.1896650344133377 batch_id=468 Accuracy=95.14: 100%|██████████| 469/469 [01:20<00:00,  5.82it/s]\n",
            "loss=0.15365813672542572 batch_id=0 Accuracy=92.97:   0%|          | 1/469 [00:00<01:21,  5.77it/s]"
          ],
          "name": "stderr"
        },
        {
          "output_type": "stream",
          "text": [
            "\n",
            "Test set: Average loss: 0.1195, Accuracy: 9644/10000 (96.44%)\n",
            "\n"
          ],
          "name": "stdout"
        },
        {
          "output_type": "stream",
          "text": [
            "loss=0.21281932294368744 batch_id=468 Accuracy=95.59: 100%|██████████| 469/469 [01:20<00:00,  5.81it/s]\n",
            "loss=0.22240382432937622 batch_id=0 Accuracy=96.09:   0%|          | 1/469 [00:00<01:18,  5.94it/s]"
          ],
          "name": "stderr"
        },
        {
          "output_type": "stream",
          "text": [
            "\n",
            "Test set: Average loss: 0.1000, Accuracy: 9704/10000 (97.04%)\n",
            "\n"
          ],
          "name": "stdout"
        },
        {
          "output_type": "stream",
          "text": [
            "loss=0.11531659215688705 batch_id=468 Accuracy=96.16: 100%|██████████| 469/469 [01:20<00:00,  5.84it/s]\n",
            "loss=0.27188950777053833 batch_id=0 Accuracy=91.41:   0%|          | 1/469 [00:00<01:26,  5.40it/s]"
          ],
          "name": "stderr"
        },
        {
          "output_type": "stream",
          "text": [
            "\n",
            "Test set: Average loss: 0.0881, Accuracy: 9747/10000 (97.47%)\n",
            "\n"
          ],
          "name": "stdout"
        },
        {
          "output_type": "stream",
          "text": [
            "loss=0.15947653353214264 batch_id=468 Accuracy=96.41: 100%|██████████| 469/469 [01:21<00:00,  5.78it/s]\n",
            "loss=0.08630824089050293 batch_id=0 Accuracy=98.44:   0%|          | 1/469 [00:00<01:19,  5.91it/s]"
          ],
          "name": "stderr"
        },
        {
          "output_type": "stream",
          "text": [
            "\n",
            "Test set: Average loss: 0.0854, Accuracy: 9737/10000 (97.37%)\n",
            "\n"
          ],
          "name": "stdout"
        },
        {
          "output_type": "stream",
          "text": [
            "loss=0.0697844997048378 batch_id=468 Accuracy=96.67: 100%|██████████| 469/469 [01:21<00:00,  5.78it/s]\n",
            "loss=0.11552000045776367 batch_id=0 Accuracy=95.31:   0%|          | 1/469 [00:00<01:28,  5.26it/s]"
          ],
          "name": "stderr"
        },
        {
          "output_type": "stream",
          "text": [
            "\n",
            "Test set: Average loss: 0.0792, Accuracy: 9764/10000 (97.64%)\n",
            "\n"
          ],
          "name": "stdout"
        },
        {
          "output_type": "stream",
          "text": [
            "loss=0.04733434319496155 batch_id=468 Accuracy=96.93: 100%|██████████| 469/469 [01:21<00:00,  5.79it/s]\n",
            "loss=0.08739109337329865 batch_id=0 Accuracy=95.31:   0%|          | 1/469 [00:00<01:23,  5.61it/s]"
          ],
          "name": "stderr"
        },
        {
          "output_type": "stream",
          "text": [
            "\n",
            "Test set: Average loss: 0.0707, Accuracy: 9789/10000 (97.89%)\n",
            "\n"
          ],
          "name": "stdout"
        },
        {
          "output_type": "stream",
          "text": [
            "loss=0.1337984949350357 batch_id=468 Accuracy=97.12: 100%|██████████| 469/469 [01:20<00:00,  5.84it/s]\n",
            "loss=0.11143824458122253 batch_id=0 Accuracy=98.44:   0%|          | 1/469 [00:00<01:21,  5.78it/s]"
          ],
          "name": "stderr"
        },
        {
          "output_type": "stream",
          "text": [
            "\n",
            "Test set: Average loss: 0.0669, Accuracy: 9803/10000 (98.03%)\n",
            "\n"
          ],
          "name": "stdout"
        },
        {
          "output_type": "stream",
          "text": [
            "loss=0.033572811633348465 batch_id=468 Accuracy=97.23: 100%|██████████| 469/469 [01:20<00:00,  5.79it/s]\n",
            "loss=0.08407726138830185 batch_id=0 Accuracy=97.66:   0%|          | 1/469 [00:00<01:21,  5.75it/s]"
          ],
          "name": "stderr"
        },
        {
          "output_type": "stream",
          "text": [
            "\n",
            "Test set: Average loss: 0.0616, Accuracy: 9811/10000 (98.11%)\n",
            "\n"
          ],
          "name": "stdout"
        },
        {
          "output_type": "stream",
          "text": [
            "loss=0.06424305588006973 batch_id=468 Accuracy=97.39: 100%|██████████| 469/469 [01:21<00:00,  5.76it/s]\n",
            "loss=0.053372547030448914 batch_id=0 Accuracy=96.88:   0%|          | 1/469 [00:00<01:19,  5.91it/s]"
          ],
          "name": "stderr"
        },
        {
          "output_type": "stream",
          "text": [
            "\n",
            "Test set: Average loss: 0.0594, Accuracy: 9827/10000 (98.27%)\n",
            "\n"
          ],
          "name": "stdout"
        },
        {
          "output_type": "stream",
          "text": [
            "loss=0.06346604973077774 batch_id=468 Accuracy=97.58: 100%|██████████| 469/469 [01:21<00:00,  5.78it/s]\n",
            "loss=0.11559329926967621 batch_id=0 Accuracy=97.66:   0%|          | 1/469 [00:00<01:18,  5.93it/s]"
          ],
          "name": "stderr"
        },
        {
          "output_type": "stream",
          "text": [
            "\n",
            "Test set: Average loss: 0.0512, Accuracy: 9844/10000 (98.44%)\n",
            "\n"
          ],
          "name": "stdout"
        },
        {
          "output_type": "stream",
          "text": [
            "loss=0.07963082194328308 batch_id=468 Accuracy=97.72: 100%|██████████| 469/469 [01:20<00:00,  5.80it/s]\n",
            "loss=0.08205882459878922 batch_id=0 Accuracy=96.88:   0%|          | 1/469 [00:00<01:26,  5.38it/s]"
          ],
          "name": "stderr"
        },
        {
          "output_type": "stream",
          "text": [
            "\n",
            "Test set: Average loss: 0.0551, Accuracy: 9825/10000 (98.25%)\n",
            "\n"
          ],
          "name": "stdout"
        },
        {
          "output_type": "stream",
          "text": [
            "loss=0.06147719919681549 batch_id=468 Accuracy=97.85: 100%|██████████| 469/469 [01:21<00:00,  5.76it/s]\n",
            "loss=0.06696461886167526 batch_id=0 Accuracy=96.09:   0%|          | 1/469 [00:00<01:16,  6.09it/s]"
          ],
          "name": "stderr"
        },
        {
          "output_type": "stream",
          "text": [
            "\n",
            "Test set: Average loss: 0.0520, Accuracy: 9839/10000 (98.39%)\n",
            "\n"
          ],
          "name": "stdout"
        },
        {
          "output_type": "stream",
          "text": [
            "loss=0.05395066738128662 batch_id=468 Accuracy=97.89: 100%|██████████| 469/469 [01:21<00:00,  5.78it/s]\n",
            "loss=0.037175968289375305 batch_id=0 Accuracy=99.22:   0%|          | 1/469 [00:00<01:21,  5.76it/s]"
          ],
          "name": "stderr"
        },
        {
          "output_type": "stream",
          "text": [
            "\n",
            "Test set: Average loss: 0.0499, Accuracy: 9842/10000 (98.42%)\n",
            "\n"
          ],
          "name": "stdout"
        },
        {
          "output_type": "stream",
          "text": [
            "loss=0.07339072972536087 batch_id=468 Accuracy=97.98: 100%|██████████| 469/469 [01:21<00:00,  5.77it/s]\n",
            "loss=0.04011828079819679 batch_id=0 Accuracy=98.44:   0%|          | 1/469 [00:00<01:19,  5.86it/s]"
          ],
          "name": "stderr"
        },
        {
          "output_type": "stream",
          "text": [
            "\n",
            "Test set: Average loss: 0.0440, Accuracy: 9861/10000 (98.61%)\n",
            "\n"
          ],
          "name": "stdout"
        },
        {
          "output_type": "stream",
          "text": [
            "loss=0.08358017355203629 batch_id=468 Accuracy=98.09: 100%|██████████| 469/469 [01:21<00:00,  5.73it/s]\n",
            "loss=0.060976848006248474 batch_id=0 Accuracy=96.88:   0%|          | 1/469 [00:00<01:21,  5.77it/s]"
          ],
          "name": "stderr"
        },
        {
          "output_type": "stream",
          "text": [
            "\n",
            "Test set: Average loss: 0.0433, Accuracy: 9860/10000 (98.60%)\n",
            "\n"
          ],
          "name": "stdout"
        },
        {
          "output_type": "stream",
          "text": [
            "loss=0.0658772811293602 batch_id=468 Accuracy=98.09: 100%|██████████| 469/469 [01:20<00:00,  5.79it/s]\n",
            "loss=0.08902455866336823 batch_id=0 Accuracy=99.22:   0%|          | 1/469 [00:00<01:24,  5.53it/s]"
          ],
          "name": "stderr"
        },
        {
          "output_type": "stream",
          "text": [
            "\n",
            "Test set: Average loss: 0.0409, Accuracy: 9869/10000 (98.69%)\n",
            "\n"
          ],
          "name": "stdout"
        },
        {
          "output_type": "stream",
          "text": [
            "loss=0.15186090767383575 batch_id=468 Accuracy=98.07: 100%|██████████| 469/469 [01:21<00:00,  5.75it/s]\n",
            "loss=0.046191733330488205 batch_id=0 Accuracy=97.66:   0%|          | 1/469 [00:00<01:19,  5.92it/s]"
          ],
          "name": "stderr"
        },
        {
          "output_type": "stream",
          "text": [
            "\n",
            "Test set: Average loss: 0.0425, Accuracy: 9869/10000 (98.69%)\n",
            "\n"
          ],
          "name": "stdout"
        },
        {
          "output_type": "stream",
          "text": [
            "loss=0.04372880980372429 batch_id=468 Accuracy=98.15: 100%|██████████| 469/469 [01:20<00:00,  5.80it/s]\n"
          ],
          "name": "stderr"
        },
        {
          "output_type": "stream",
          "text": [
            "\n",
            "Test set: Average loss: 0.0385, Accuracy: 9882/10000 (98.82%)\n",
            "\n"
          ],
          "name": "stdout"
        }
      ]
    },
    {
      "cell_type": "code",
      "metadata": {
        "id": "fE1k9AJ59Ocy",
        "colab_type": "code",
        "colab": {
          "base_uri": "https://localhost:8080/",
          "height": 139
        },
        "outputId": "9745a727-ba64-4782-def7-4fc7aa3fa6fd"
      },
      "source": [
        "# Net1 - with L1, With Batch normalization\n",
        "from train import train_model\n",
        "from test import test_model\n",
        "\n",
        "# Session 5 final model\n",
        "model = dnn_model.Net1().to(device)\n",
        "optimizer = optim.SGD(model.parameters(), lr=0.01, momentum=0.9)\n",
        "\n",
        "for epoch in range(1, 2):\n",
        "    train_model(model, device, train_loader, optimizer, epoch, \"L1\")\n",
        "    test_model(model, device, test_loader)"
      ],
      "execution_count": 5,
      "outputs": [
        {
          "output_type": "stream",
          "text": [
            "\r  0%|          | 0/469 [00:00<?, ?it/s]/content/dnn_model.py:35: UserWarning: Implicit dimension choice for log_softmax has been deprecated. Change the call to include dim=X as an argument.\n",
            "  return F.log_softmax(x)\n",
            "loss=0.5337293148040771 batch_id=468 Accuracy=71.70: 100%|██████████| 469/469 [01:25<00:00,  5.48it/s]\n"
          ],
          "name": "stderr"
        },
        {
          "output_type": "stream",
          "text": [
            "\n",
            "Test set: Average loss: 0.1589, Accuracy: 9566/10000 (95.66%)\n",
            "\n"
          ],
          "name": "stdout"
        }
      ]
    },
    {
      "cell_type": "code",
      "metadata": {
        "id": "NmDnAOlLaKA8",
        "colab_type": "code",
        "colab": {
          "base_uri": "https://localhost:8080/",
          "height": 1000
        },
        "outputId": "c3ae9205-6277-48aa-f787-26f877e51f45"
      },
      "source": [
        "# Net1 - with L1, With Batch normalization\n",
        "from train import train_model\n",
        "from test import test_model\n",
        "\n",
        "# Session 5 final model\n",
        "model = dnn_model.Net1().to(device)\n",
        "optimizer = optim.SGD(model.parameters(), lr=0.01, momentum=0.9)\n",
        "\n",
        "for epoch in range(1, 25):\n",
        "    train_model(model, device, train_loader, optimizer, epoch, \"L1\")\n",
        "    test_model(model, device, test_loader)"
      ],
      "execution_count": 10,
      "outputs": [
        {
          "output_type": "stream",
          "text": [
            "\r  0%|          | 0/469 [00:00<?, ?it/s]/content/dnn_model.py:35: UserWarning: Implicit dimension choice for log_softmax has been deprecated. Change the call to include dim=X as an argument.\n",
            "  return F.log_softmax(x)\n",
            "loss=0.5337293148040771 batch_id=468 Accuracy=71.70: 100%|██████████| 469/469 [01:25<00:00,  5.50it/s]\n",
            "loss=0.3812520503997803 batch_id=0 Accuracy=91.41:   0%|          | 1/469 [00:00<01:25,  5.50it/s]"
          ],
          "name": "stderr"
        },
        {
          "output_type": "stream",
          "text": [
            "\n",
            "Test set: Average loss: 0.1589, Accuracy: 9566/10000 (95.66%)\n",
            "\n"
          ],
          "name": "stdout"
        },
        {
          "output_type": "stream",
          "text": [
            "loss=0.29899686574935913 batch_id=468 Accuracy=96.16: 100%|██████████| 469/469 [01:26<00:00,  5.44it/s]\n",
            "loss=0.28444990515708923 batch_id=0 Accuracy=99.22:   0%|          | 1/469 [00:00<01:21,  5.74it/s]"
          ],
          "name": "stderr"
        },
        {
          "output_type": "stream",
          "text": [
            "\n",
            "Test set: Average loss: 0.0839, Accuracy: 9746/10000 (97.46%)\n",
            "\n"
          ],
          "name": "stdout"
        },
        {
          "output_type": "stream",
          "text": [
            "loss=0.23820088803768158 batch_id=468 Accuracy=97.06: 100%|██████████| 469/469 [01:26<00:00,  5.42it/s]\n",
            "loss=0.2842409312725067 batch_id=0 Accuracy=96.88:   0%|          | 1/469 [00:00<01:22,  5.66it/s]"
          ],
          "name": "stderr"
        },
        {
          "output_type": "stream",
          "text": [
            "\n",
            "Test set: Average loss: 0.0684, Accuracy: 9802/10000 (98.02%)\n",
            "\n"
          ],
          "name": "stdout"
        },
        {
          "output_type": "stream",
          "text": [
            "loss=0.24949359893798828 batch_id=468 Accuracy=97.42: 100%|██████████| 469/469 [01:26<00:00,  5.43it/s]\n",
            "loss=0.256767213344574 batch_id=0 Accuracy=96.88:   0%|          | 1/469 [00:00<01:29,  5.23it/s]"
          ],
          "name": "stderr"
        },
        {
          "output_type": "stream",
          "text": [
            "\n",
            "Test set: Average loss: 0.0558, Accuracy: 9841/10000 (98.41%)\n",
            "\n"
          ],
          "name": "stdout"
        },
        {
          "output_type": "stream",
          "text": [
            "loss=0.2692250609397888 batch_id=468 Accuracy=97.71: 100%|██████████| 469/469 [01:25<00:00,  5.51it/s]\n",
            "loss=0.2296978086233139 batch_id=0 Accuracy=96.88:   0%|          | 1/469 [00:00<01:24,  5.52it/s]"
          ],
          "name": "stderr"
        },
        {
          "output_type": "stream",
          "text": [
            "\n",
            "Test set: Average loss: 0.0569, Accuracy: 9841/10000 (98.41%)\n",
            "\n"
          ],
          "name": "stdout"
        },
        {
          "output_type": "stream",
          "text": [
            "loss=0.1975247710943222 batch_id=468 Accuracy=97.75: 100%|██████████| 469/469 [01:25<00:00,  5.47it/s]\n",
            "loss=0.2265634834766388 batch_id=0 Accuracy=99.22:   0%|          | 1/469 [00:00<01:26,  5.44it/s]"
          ],
          "name": "stderr"
        },
        {
          "output_type": "stream",
          "text": [
            "\n",
            "Test set: Average loss: 0.0607, Accuracy: 9819/10000 (98.19%)\n",
            "\n"
          ],
          "name": "stdout"
        },
        {
          "output_type": "stream",
          "text": [
            "loss=0.21705561876296997 batch_id=468 Accuracy=97.82: 100%|██████████| 469/469 [01:25<00:00,  5.51it/s]\n",
            "loss=0.31787633895874023 batch_id=0 Accuracy=96.09:   0%|          | 1/469 [00:00<01:24,  5.52it/s]"
          ],
          "name": "stderr"
        },
        {
          "output_type": "stream",
          "text": [
            "\n",
            "Test set: Average loss: 0.0727, Accuracy: 9780/10000 (97.80%)\n",
            "\n"
          ],
          "name": "stdout"
        },
        {
          "output_type": "stream",
          "text": [
            "loss=0.22350674867630005 batch_id=468 Accuracy=97.84: 100%|██████████| 469/469 [01:25<00:00,  5.50it/s]\n",
            "loss=0.21314159035682678 batch_id=0 Accuracy=99.22:   0%|          | 1/469 [00:00<01:23,  5.61it/s]"
          ],
          "name": "stderr"
        },
        {
          "output_type": "stream",
          "text": [
            "\n",
            "Test set: Average loss: 0.0450, Accuracy: 9869/10000 (98.69%)\n",
            "\n"
          ],
          "name": "stdout"
        },
        {
          "output_type": "stream",
          "text": [
            "loss=0.17169950902462006 batch_id=468 Accuracy=97.88: 100%|██████████| 469/469 [01:25<00:00,  5.48it/s]\n",
            "loss=0.2434038370847702 batch_id=0 Accuracy=96.09:   0%|          | 1/469 [00:00<01:26,  5.43it/s]"
          ],
          "name": "stderr"
        },
        {
          "output_type": "stream",
          "text": [
            "\n",
            "Test set: Average loss: 0.0466, Accuracy: 9868/10000 (98.68%)\n",
            "\n"
          ],
          "name": "stdout"
        },
        {
          "output_type": "stream",
          "text": [
            "loss=0.2590324580669403 batch_id=468 Accuracy=97.99: 100%|██████████| 469/469 [01:26<00:00,  5.44it/s]\n",
            "loss=0.2021748125553131 batch_id=0 Accuracy=98.44:   0%|          | 1/469 [00:00<01:24,  5.52it/s]"
          ],
          "name": "stderr"
        },
        {
          "output_type": "stream",
          "text": [
            "\n",
            "Test set: Average loss: 0.0536, Accuracy: 9844/10000 (98.44%)\n",
            "\n"
          ],
          "name": "stdout"
        },
        {
          "output_type": "stream",
          "text": [
            "loss=0.22270318865776062 batch_id=468 Accuracy=97.98: 100%|██████████| 469/469 [01:26<00:00,  5.45it/s]\n",
            "loss=0.26595938205718994 batch_id=0 Accuracy=97.66:   0%|          | 1/469 [00:00<01:23,  5.63it/s]"
          ],
          "name": "stderr"
        },
        {
          "output_type": "stream",
          "text": [
            "\n",
            "Test set: Average loss: 0.0469, Accuracy: 9863/10000 (98.63%)\n",
            "\n"
          ],
          "name": "stdout"
        },
        {
          "output_type": "stream",
          "text": [
            "loss=0.19361184537410736 batch_id=468 Accuracy=97.98: 100%|██████████| 469/469 [01:25<00:00,  5.46it/s]\n",
            "loss=0.21542048454284668 batch_id=0 Accuracy=97.66:   0%|          | 1/469 [00:00<01:23,  5.59it/s]"
          ],
          "name": "stderr"
        },
        {
          "output_type": "stream",
          "text": [
            "\n",
            "Test set: Average loss: 0.0819, Accuracy: 9745/10000 (97.45%)\n",
            "\n"
          ],
          "name": "stdout"
        },
        {
          "output_type": "stream",
          "text": [
            "loss=0.27331310510635376 batch_id=468 Accuracy=97.97: 100%|██████████| 469/469 [01:25<00:00,  5.48it/s]\n",
            "loss=0.24247261881828308 batch_id=0 Accuracy=96.88:   0%|          | 1/469 [00:00<01:21,  5.76it/s]"
          ],
          "name": "stderr"
        },
        {
          "output_type": "stream",
          "text": [
            "\n",
            "Test set: Average loss: 0.0614, Accuracy: 9802/10000 (98.02%)\n",
            "\n"
          ],
          "name": "stdout"
        },
        {
          "output_type": "stream",
          "text": [
            "loss=0.20700541138648987 batch_id=468 Accuracy=97.87: 100%|██████████| 469/469 [01:24<00:00,  5.52it/s]\n",
            "loss=0.18002671003341675 batch_id=0 Accuracy=98.44:   0%|          | 1/469 [00:00<01:25,  5.46it/s]"
          ],
          "name": "stderr"
        },
        {
          "output_type": "stream",
          "text": [
            "\n",
            "Test set: Average loss: 0.0547, Accuracy: 9838/10000 (98.38%)\n",
            "\n"
          ],
          "name": "stdout"
        },
        {
          "output_type": "stream",
          "text": [
            "loss=0.1885739117860794 batch_id=468 Accuracy=97.94: 100%|██████████| 469/469 [01:25<00:00,  5.49it/s]\n",
            "loss=0.2154296636581421 batch_id=0 Accuracy=97.66:   0%|          | 1/469 [00:00<01:23,  5.62it/s]"
          ],
          "name": "stderr"
        },
        {
          "output_type": "stream",
          "text": [
            "\n",
            "Test set: Average loss: 0.0510, Accuracy: 9843/10000 (98.43%)\n",
            "\n"
          ],
          "name": "stdout"
        },
        {
          "output_type": "stream",
          "text": [
            "loss=0.16195917129516602 batch_id=468 Accuracy=98.08: 100%|██████████| 469/469 [01:27<00:00,  5.39it/s]\n",
            "loss=0.23414728045463562 batch_id=0 Accuracy=99.22:   0%|          | 1/469 [00:00<01:23,  5.63it/s]"
          ],
          "name": "stderr"
        },
        {
          "output_type": "stream",
          "text": [
            "\n",
            "Test set: Average loss: 0.0589, Accuracy: 9814/10000 (98.14%)\n",
            "\n"
          ],
          "name": "stdout"
        },
        {
          "output_type": "stream",
          "text": [
            "loss=0.24828162789344788 batch_id=468 Accuracy=98.08: 100%|██████████| 469/469 [01:26<00:00,  5.40it/s]\n",
            "loss=0.19168098270893097 batch_id=0 Accuracy=99.22:   0%|          | 1/469 [00:00<01:23,  5.63it/s]"
          ],
          "name": "stderr"
        },
        {
          "output_type": "stream",
          "text": [
            "\n",
            "Test set: Average loss: 0.0415, Accuracy: 9869/10000 (98.69%)\n",
            "\n"
          ],
          "name": "stdout"
        },
        {
          "output_type": "stream",
          "text": [
            "loss=0.20895591378211975 batch_id=468 Accuracy=98.20: 100%|██████████| 469/469 [01:26<00:00,  5.45it/s]\n",
            "loss=0.26792070269584656 batch_id=0 Accuracy=96.09:   0%|          | 1/469 [00:00<01:27,  5.34it/s]"
          ],
          "name": "stderr"
        },
        {
          "output_type": "stream",
          "text": [
            "\n",
            "Test set: Average loss: 0.0503, Accuracy: 9845/10000 (98.45%)\n",
            "\n"
          ],
          "name": "stdout"
        },
        {
          "output_type": "stream",
          "text": [
            "loss=0.19342423975467682 batch_id=468 Accuracy=98.07: 100%|██████████| 469/469 [01:25<00:00,  5.47it/s]\n",
            "loss=0.2208549529314041 batch_id=0 Accuracy=98.44:   0%|          | 1/469 [00:00<01:28,  5.27it/s]"
          ],
          "name": "stderr"
        },
        {
          "output_type": "stream",
          "text": [
            "\n",
            "Test set: Average loss: 0.0598, Accuracy: 9819/10000 (98.19%)\n",
            "\n"
          ],
          "name": "stdout"
        },
        {
          "output_type": "stream",
          "text": [
            "loss=0.19817152619361877 batch_id=468 Accuracy=98.16: 100%|██████████| 469/469 [01:25<00:00,  5.47it/s]\n",
            "loss=0.19194811582565308 batch_id=0 Accuracy=99.22:   0%|          | 0/469 [00:00<?, ?it/s]"
          ],
          "name": "stderr"
        },
        {
          "output_type": "stream",
          "text": [
            "\n",
            "Test set: Average loss: 0.0609, Accuracy: 9813/10000 (98.13%)\n",
            "\n"
          ],
          "name": "stdout"
        },
        {
          "output_type": "stream",
          "text": [
            "loss=0.2846881151199341 batch_id=468 Accuracy=98.10: 100%|██████████| 469/469 [01:25<00:00,  5.50it/s]\n",
            "loss=0.2387419044971466 batch_id=0 Accuracy=96.09:   0%|          | 1/469 [00:00<01:24,  5.54it/s]"
          ],
          "name": "stderr"
        },
        {
          "output_type": "stream",
          "text": [
            "\n",
            "Test set: Average loss: 0.0435, Accuracy: 9878/10000 (98.78%)\n",
            "\n"
          ],
          "name": "stdout"
        },
        {
          "output_type": "stream",
          "text": [
            "loss=0.21166691184043884 batch_id=468 Accuracy=98.10: 100%|██████████| 469/469 [01:25<00:00,  5.48it/s]\n",
            "loss=0.22258037328720093 batch_id=0 Accuracy=99.22:   0%|          | 1/469 [00:00<01:23,  5.64it/s]"
          ],
          "name": "stderr"
        },
        {
          "output_type": "stream",
          "text": [
            "\n",
            "Test set: Average loss: 0.0544, Accuracy: 9835/10000 (98.35%)\n",
            "\n"
          ],
          "name": "stdout"
        },
        {
          "output_type": "stream",
          "text": [
            "loss=0.25099697709083557 batch_id=468 Accuracy=98.06: 100%|██████████| 469/469 [01:25<00:00,  5.52it/s]\n",
            "loss=0.19664454460144043 batch_id=0 Accuracy=99.22:   0%|          | 1/469 [00:00<01:21,  5.72it/s]"
          ],
          "name": "stderr"
        },
        {
          "output_type": "stream",
          "text": [
            "\n",
            "Test set: Average loss: 0.0674, Accuracy: 9797/10000 (97.97%)\n",
            "\n"
          ],
          "name": "stdout"
        },
        {
          "output_type": "stream",
          "text": [
            "loss=0.16954964399337769 batch_id=468 Accuracy=98.09: 100%|██████████| 469/469 [01:24<00:00,  5.52it/s]\n"
          ],
          "name": "stderr"
        },
        {
          "output_type": "stream",
          "text": [
            "\n",
            "Test set: Average loss: 0.0477, Accuracy: 9856/10000 (98.56%)\n",
            "\n"
          ],
          "name": "stdout"
        }
      ]
    },
    {
      "cell_type": "code",
      "metadata": {
        "id": "95PwQVn58pih",
        "colab_type": "code",
        "colab": {
          "base_uri": "https://localhost:8080/",
          "height": 1000
        },
        "outputId": "afb826d9-582b-41cd-a8ba-1e15f115e3b7"
      },
      "source": [
        "# Net1 - with L1 & L2, with BN\n",
        "from train import train_model\n",
        "from test import test_model\n",
        "\n",
        "# Session 5 final model\n",
        "model = dnn_model.Net1().to(device)\n",
        "optimizer = optim.SGD(model.parameters(), lr=0.01, momentum=0, dampening=0, weight_decay=0, nesterov=False)\n",
        "\n",
        "for epoch in range(1, 25):\n",
        "    train_model(model, device, train_loader, optimizer, epoch, 'L1')\n",
        "    test_model(model, device, test_loader)"
      ],
      "execution_count": 13,
      "outputs": [
        {
          "output_type": "stream",
          "text": [
            "  0%|          | 0/469 [00:00<?, ?it/s]/content/dnn_model.py:35: UserWarning: Implicit dimension choice for log_softmax has been deprecated. Change the call to include dim=X as an argument.\n",
            "  return F.log_softmax(x)\n",
            "loss=2.392559289932251 batch_id=468 Accuracy=17.49: 100%|██████████| 469/469 [01:25<00:00,  5.50it/s]\n",
            "loss=2.349015951156616 batch_id=0 Accuracy=18.75:   0%|          | 1/469 [00:00<01:25,  5.46it/s]"
          ],
          "name": "stderr"
        },
        {
          "output_type": "stream",
          "text": [
            "\n",
            "Test set: Average loss: 2.1371, Accuracy: 2594/10000 (25.94%)\n",
            "\n"
          ],
          "name": "stdout"
        },
        {
          "output_type": "stream",
          "text": [
            "loss=1.2016850709915161 batch_id=468 Accuracy=45.18: 100%|██████████| 469/469 [01:25<00:00,  5.51it/s]\n",
            "  0%|          | 0/469 [00:00<?, ?it/s]"
          ],
          "name": "stderr"
        },
        {
          "output_type": "stream",
          "text": [
            "\n",
            "Test set: Average loss: 0.9352, Accuracy: 7383/10000 (73.83%)\n",
            "\n"
          ],
          "name": "stdout"
        },
        {
          "output_type": "stream",
          "text": [
            "loss=0.5858258008956909 batch_id=468 Accuracy=81.87: 100%|██████████| 469/469 [01:25<00:00,  5.48it/s]\n",
            "loss=0.5638421177864075 batch_id=0 Accuracy=90.62:   0%|          | 1/469 [00:00<01:23,  5.57it/s]"
          ],
          "name": "stderr"
        },
        {
          "output_type": "stream",
          "text": [
            "\n",
            "Test set: Average loss: 0.3648, Accuracy: 8947/10000 (89.47%)\n",
            "\n"
          ],
          "name": "stdout"
        },
        {
          "output_type": "stream",
          "text": [
            "loss=0.5721626877784729 batch_id=468 Accuracy=89.73: 100%|██████████| 469/469 [01:25<00:00,  5.47it/s]\n",
            "loss=0.4984756112098694 batch_id=0 Accuracy=92.19:   0%|          | 1/469 [00:00<01:22,  5.64it/s]"
          ],
          "name": "stderr"
        },
        {
          "output_type": "stream",
          "text": [
            "\n",
            "Test set: Average loss: 0.2360, Accuracy: 9366/10000 (93.66%)\n",
            "\n"
          ],
          "name": "stdout"
        },
        {
          "output_type": "stream",
          "text": [
            "loss=0.43807631731033325 batch_id=468 Accuracy=92.56: 100%|██████████| 469/469 [01:25<00:00,  5.50it/s]\n",
            "loss=0.4685309827327728 batch_id=0 Accuracy=92.97:   0%|          | 1/469 [00:00<01:28,  5.28it/s]"
          ],
          "name": "stderr"
        },
        {
          "output_type": "stream",
          "text": [
            "\n",
            "Test set: Average loss: 0.1785, Accuracy: 9507/10000 (95.07%)\n",
            "\n"
          ],
          "name": "stdout"
        },
        {
          "output_type": "stream",
          "text": [
            "loss=0.42101019620895386 batch_id=468 Accuracy=94.11: 100%|██████████| 469/469 [01:24<00:00,  5.56it/s]\n",
            "loss=0.4824026823043823 batch_id=0 Accuracy=93.75:   0%|          | 1/469 [00:00<01:21,  5.71it/s]"
          ],
          "name": "stderr"
        },
        {
          "output_type": "stream",
          "text": [
            "\n",
            "Test set: Average loss: 0.1462, Accuracy: 9596/10000 (95.96%)\n",
            "\n"
          ],
          "name": "stdout"
        },
        {
          "output_type": "stream",
          "text": [
            "loss=0.42167866230010986 batch_id=468 Accuracy=95.19: 100%|██████████| 469/469 [01:25<00:00,  5.49it/s]\n",
            "loss=0.37264198064804077 batch_id=0 Accuracy=95.31:   0%|          | 1/469 [00:00<01:28,  5.27it/s]"
          ],
          "name": "stderr"
        },
        {
          "output_type": "stream",
          "text": [
            "\n",
            "Test set: Average loss: 0.1294, Accuracy: 9618/10000 (96.18%)\n",
            "\n"
          ],
          "name": "stdout"
        },
        {
          "output_type": "stream",
          "text": [
            "loss=0.4210740327835083 batch_id=468 Accuracy=95.66: 100%|██████████| 469/469 [01:25<00:00,  5.48it/s]\n",
            "loss=0.4279828667640686 batch_id=0 Accuracy=96.09:   0%|          | 1/469 [00:00<01:26,  5.43it/s]"
          ],
          "name": "stderr"
        },
        {
          "output_type": "stream",
          "text": [
            "\n",
            "Test set: Average loss: 0.1070, Accuracy: 9690/10000 (96.90%)\n",
            "\n"
          ],
          "name": "stdout"
        },
        {
          "output_type": "stream",
          "text": [
            "loss=0.31368234753608704 batch_id=468 Accuracy=96.19: 100%|██████████| 469/469 [01:24<00:00,  5.57it/s]\n",
            "loss=0.4693637490272522 batch_id=0 Accuracy=91.41:   0%|          | 1/469 [00:00<01:25,  5.44it/s]"
          ],
          "name": "stderr"
        },
        {
          "output_type": "stream",
          "text": [
            "\n",
            "Test set: Average loss: 0.1032, Accuracy: 9709/10000 (97.09%)\n",
            "\n"
          ],
          "name": "stdout"
        },
        {
          "output_type": "stream",
          "text": [
            "loss=0.37446129322052 batch_id=468 Accuracy=96.44: 100%|██████████| 469/469 [01:24<00:00,  5.53it/s]\n",
            "loss=0.29261109232902527 batch_id=0 Accuracy=98.44:   0%|          | 1/469 [00:00<01:25,  5.44it/s]"
          ],
          "name": "stderr"
        },
        {
          "output_type": "stream",
          "text": [
            "\n",
            "Test set: Average loss: 0.0839, Accuracy: 9761/10000 (97.61%)\n",
            "\n"
          ],
          "name": "stdout"
        },
        {
          "output_type": "stream",
          "text": [
            "loss=0.2771334648132324 batch_id=468 Accuracy=96.75: 100%|██████████| 469/469 [01:25<00:00,  5.51it/s]\n",
            "loss=0.3299824893474579 batch_id=0 Accuracy=96.88:   0%|          | 1/469 [00:00<01:24,  5.54it/s]"
          ],
          "name": "stderr"
        },
        {
          "output_type": "stream",
          "text": [
            "\n",
            "Test set: Average loss: 0.0791, Accuracy: 9777/10000 (97.77%)\n",
            "\n"
          ],
          "name": "stdout"
        },
        {
          "output_type": "stream",
          "text": [
            "loss=0.27744975686073303 batch_id=468 Accuracy=97.06: 100%|██████████| 469/469 [01:19<00:00,  5.91it/s]\n",
            "loss=0.2853933274745941 batch_id=0 Accuracy=96.88:   0%|          | 1/469 [00:00<01:18,  5.97it/s]"
          ],
          "name": "stderr"
        },
        {
          "output_type": "stream",
          "text": [
            "\n",
            "Test set: Average loss: 0.0714, Accuracy: 9803/10000 (98.03%)\n",
            "\n"
          ],
          "name": "stdout"
        },
        {
          "output_type": "stream",
          "text": [
            "loss=0.3348570764064789 batch_id=468 Accuracy=97.20: 100%|██████████| 469/469 [01:15<00:00,  6.22it/s]\n",
            "loss=0.34860312938690186 batch_id=0 Accuracy=96.09:   0%|          | 1/469 [00:00<01:15,  6.21it/s]"
          ],
          "name": "stderr"
        },
        {
          "output_type": "stream",
          "text": [
            "\n",
            "Test set: Average loss: 0.0648, Accuracy: 9832/10000 (98.32%)\n",
            "\n"
          ],
          "name": "stdout"
        },
        {
          "output_type": "stream",
          "text": [
            "loss=0.23860330879688263 batch_id=468 Accuracy=97.34: 100%|██████████| 469/469 [01:16<00:00,  6.16it/s]\n",
            "loss=0.257891446352005 batch_id=0 Accuracy=98.44:   0%|          | 1/469 [00:00<01:18,  5.93it/s]"
          ],
          "name": "stderr"
        },
        {
          "output_type": "stream",
          "text": [
            "\n",
            "Test set: Average loss: 0.0683, Accuracy: 9816/10000 (98.16%)\n",
            "\n"
          ],
          "name": "stdout"
        },
        {
          "output_type": "stream",
          "text": [
            "loss=0.2471635937690735 batch_id=468 Accuracy=97.47: 100%|██████████| 469/469 [01:15<00:00,  6.21it/s]\n",
            "loss=0.24469071626663208 batch_id=0 Accuracy=97.66:   0%|          | 1/469 [00:00<01:14,  6.24it/s]"
          ],
          "name": "stderr"
        },
        {
          "output_type": "stream",
          "text": [
            "\n",
            "Test set: Average loss: 0.0606, Accuracy: 9841/10000 (98.41%)\n",
            "\n"
          ],
          "name": "stdout"
        },
        {
          "output_type": "stream",
          "text": [
            "loss=0.23795898258686066 batch_id=468 Accuracy=97.58: 100%|██████████| 469/469 [01:15<00:00,  6.22it/s]\n",
            "loss=0.2774806618690491 batch_id=0 Accuracy=98.44:   0%|          | 1/469 [00:00<01:14,  6.30it/s]"
          ],
          "name": "stderr"
        },
        {
          "output_type": "stream",
          "text": [
            "\n",
            "Test set: Average loss: 0.0531, Accuracy: 9849/10000 (98.49%)\n",
            "\n"
          ],
          "name": "stdout"
        },
        {
          "output_type": "stream",
          "text": [
            "loss=0.2584306299686432 batch_id=468 Accuracy=97.79: 100%|██████████| 469/469 [01:15<00:00,  6.20it/s]\n",
            "loss=0.2679199278354645 batch_id=0 Accuracy=98.44:   0%|          | 1/469 [00:00<01:18,  5.95it/s]"
          ],
          "name": "stderr"
        },
        {
          "output_type": "stream",
          "text": [
            "\n",
            "Test set: Average loss: 0.0529, Accuracy: 9845/10000 (98.45%)\n",
            "\n"
          ],
          "name": "stdout"
        },
        {
          "output_type": "stream",
          "text": [
            "loss=0.2466563880443573 batch_id=468 Accuracy=97.78: 100%|██████████| 469/469 [01:15<00:00,  6.21it/s]\n",
            "loss=0.2571853995323181 batch_id=0 Accuracy=96.88:   0%|          | 1/469 [00:00<01:13,  6.33it/s]"
          ],
          "name": "stderr"
        },
        {
          "output_type": "stream",
          "text": [
            "\n",
            "Test set: Average loss: 0.0617, Accuracy: 9835/10000 (98.35%)\n",
            "\n"
          ],
          "name": "stdout"
        },
        {
          "output_type": "stream",
          "text": [
            "loss=0.2552502155303955 batch_id=468 Accuracy=97.90: 100%|██████████| 469/469 [01:19<00:00,  5.91it/s]\n",
            "loss=0.24396859109401703 batch_id=0 Accuracy=99.22:   0%|          | 1/469 [00:00<01:14,  6.26it/s]"
          ],
          "name": "stderr"
        },
        {
          "output_type": "stream",
          "text": [
            "\n",
            "Test set: Average loss: 0.0531, Accuracy: 9848/10000 (98.48%)\n",
            "\n"
          ],
          "name": "stdout"
        },
        {
          "output_type": "stream",
          "text": [
            "loss=0.23711203038692474 batch_id=468 Accuracy=97.96: 100%|██████████| 469/469 [01:15<00:00,  6.20it/s]\n",
            "loss=0.22594106197357178 batch_id=0 Accuracy=99.22:   0%|          | 1/469 [00:00<01:13,  6.39it/s]"
          ],
          "name": "stderr"
        },
        {
          "output_type": "stream",
          "text": [
            "\n",
            "Test set: Average loss: 0.0508, Accuracy: 9868/10000 (98.68%)\n",
            "\n"
          ],
          "name": "stdout"
        },
        {
          "output_type": "stream",
          "text": [
            "loss=0.2960471510887146 batch_id=468 Accuracy=97.99: 100%|██████████| 469/469 [01:15<00:00,  6.23it/s]\n",
            "loss=0.2620832026004791 batch_id=0 Accuracy=96.88:   0%|          | 1/469 [00:00<01:13,  6.40it/s]"
          ],
          "name": "stderr"
        },
        {
          "output_type": "stream",
          "text": [
            "\n",
            "Test set: Average loss: 0.0636, Accuracy: 9810/10000 (98.10%)\n",
            "\n"
          ],
          "name": "stdout"
        },
        {
          "output_type": "stream",
          "text": [
            "loss=0.28348398208618164 batch_id=468 Accuracy=98.00: 100%|██████████| 469/469 [01:15<00:00,  6.20it/s]\n",
            "loss=0.25831907987594604 batch_id=0 Accuracy=99.22:   0%|          | 1/469 [00:00<01:13,  6.41it/s]"
          ],
          "name": "stderr"
        },
        {
          "output_type": "stream",
          "text": [
            "\n",
            "Test set: Average loss: 0.0481, Accuracy: 9865/10000 (98.65%)\n",
            "\n"
          ],
          "name": "stdout"
        },
        {
          "output_type": "stream",
          "text": [
            "loss=0.3000286817550659 batch_id=468 Accuracy=98.06: 100%|██████████| 469/469 [01:15<00:00,  6.20it/s]\n",
            "loss=0.2138294279575348 batch_id=0 Accuracy=98.44:   0%|          | 1/469 [00:00<01:12,  6.43it/s]"
          ],
          "name": "stderr"
        },
        {
          "output_type": "stream",
          "text": [
            "\n",
            "Test set: Average loss: 0.0488, Accuracy: 9883/10000 (98.83%)\n",
            "\n"
          ],
          "name": "stdout"
        },
        {
          "output_type": "stream",
          "text": [
            "loss=0.23853173851966858 batch_id=468 Accuracy=98.05: 100%|██████████| 469/469 [01:15<00:00,  6.17it/s]\n"
          ],
          "name": "stderr"
        },
        {
          "output_type": "stream",
          "text": [
            "\n",
            "Test set: Average loss: 0.0469, Accuracy: 9870/10000 (98.70%)\n",
            "\n"
          ],
          "name": "stdout"
        }
      ]
    },
    {
      "cell_type": "code",
      "metadata": {
        "id": "sirXOgB7GQcS",
        "colab_type": "code",
        "colab": {}
      },
      "source": [
        ""
      ],
      "execution_count": 0,
      "outputs": []
    }
  ]
}